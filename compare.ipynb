{
 "cells": [
  {
   "cell_type": "code",
   "execution_count": 10,
   "metadata": {},
   "outputs": [],
   "source": [
    "from sklearn.metrics import precision_recall_fscore_support\n",
    "\n"
   ]
  },
  {
   "cell_type": "code",
   "execution_count": 11,
   "metadata": {},
   "outputs": [],
   "source": [
    "def calculate_h_score(system_summary, reference_summary):\n",
    "    # Convert summaries to lowercase for case-insensitive comparison\n",
    "    system_summary = system_summary.lower()\n",
    "    reference_summary = reference_summary.lower()\n",
    "\n",
    "    # Tokenize summaries into words\n",
    "    system_tokens = set(system_summary.split())\n",
    "    reference_tokens = set(reference_summary.split())\n",
    "\n",
    "    # Calculate precision, recall, and F1-score\n",
    "    precision, recall, _, _ = precision_recall_fscore_support(\n",
    "        [1 if token in system_tokens else 0 for token in reference_tokens],\n",
    "        [1] * len(reference_tokens),\n",
    "        average='binary'\n",
    "    )\n",
    "\n",
    "    # Calculate F1-score\n",
    "    f1_score = 2 * (precision * recall) / (precision + recall) if (precision + recall) > 0 else 0\n",
    "\n",
    "    return precision, recall, f1_score\n",
    "\n"
   ]
  },
  {
   "cell_type": "code",
   "execution_count": 12,
   "metadata": {},
   "outputs": [],
   "source": [
    "# Example usage:\n",
    "text_rank_summary = \"With the opening of the Pamban Bridge to the mainland in 1914, however, the businesses failed and the family fortune and properties were lost by the 1920s, apart from the ancestral home. His father Jainulabdeen Marakayar was a boat owner and imam of a local mosque;[9] his mother Ashiamma was a housewife.[10][11][12][13] While Kalam was working on a senior class project, the Dean was dissatisfied with his lack of progress and threatened to revoke his scholarship unless the project was finished within the next three days. The family business had involved trading groceries between the mainland and the island and to and from Sri Lanka, as well as ferrying pilgrims between the mainland and Pamban. Avul Pakir Jainulabdeen Abdul Kalam was born on 15 October 1931, to a Tamil Muslim family in the pilgrimage centre of Rameswaram on Pamban Island, then in the Madras Presidency and now in the State of Tamil Nadu.\"\n",
    "\n"
   ]
  },
  {
   "cell_type": "code",
   "execution_count": 13,
   "metadata": {},
   "outputs": [],
   "source": [
    "freq_summary = \"Avul Pakir Jainulabdeen Abdul Kalam was born on 15 October 1931, to a Tamil Muslim family in the pilgrimage centre of Rameswaram on Pamban Island, then in the Madras Presidency and now in the State of Tamil Nadu. After completing his education at Schwartz Higher Secondary School, Ramanathapuram, Kalam went on to attend the St. Joseph's College, Tiruchirappalli from where he graduated in Physics in 1954.[22] Marakayar are a Muslim ethnic group found in coastal Tamil Nadu and Sri Lanka who claim descent from Arab traders and local women. The family business had involved trading groceries between the mainland and the island and to and from Sri Lanka, as well as ferrying pilgrims between the mainland and Pamban. While Kalam was working on a senior class project, the Dean was dissatisfied with his lack of progress and threatened to revoke his scholarship unless the project was finished within the next three days.\"\n",
    "\n"
   ]
  },
  {
   "cell_type": "code",
   "execution_count": 14,
   "metadata": {},
   "outputs": [],
   "source": [
    "reference_summary = \"Avul Pakir Jainulabdeen Abdul Kalam, born on October 15, 1931, in Rameswaram, Tamil Nadu, came from a humble background. His father, Jainulabdeen Marakayar, was a boat owner and a local mosque imam, while his mother, Ashiamma, was a housewife. The family's fortunes declined due to the failure of their businesses, leaving them in poverty. Despite financial struggles, Kalam, the youngest of four brothers and one sister, showed determination from a young age, even selling newspapers to contribute to the family income.Kalam, known for his bright and hardworking nature, had an average academic record but excelled in subjects like Mathematics. After completing his education at Schwartz Higher Secondary School and graduating in Physics from St. Joseph's College, Tiruchirappalli, he pursued aerospace engineering at Madras Institute of Technology.During his academic journey, Kalam faced challenges, including a tight deadline for a senior class project. Despite the pressure, he met the deadline impressively, showcasing his resilience. Although he narrowly missed his dream of becoming a fighter pilot, ranking ninth in qualifiers with only eight available positions in the Indian Air Force, Kalam's determination and commitment set the stage for his future achievements.\""
   ]
  },
  {
   "cell_type": "code",
   "execution_count": 15,
   "metadata": {},
   "outputs": [],
   "source": [
    "precision_text_rank, recall_text_rank, f1_score_text_rank = calculate_h_score(text_rank_summary, reference_summary)\n",
    "precision_freq, recall_freq, f1_score_freq = calculate_h_score(freq_summary, reference_summary)\n",
    "\n"
   ]
  },
  {
   "cell_type": "code",
   "execution_count": 16,
   "metadata": {},
   "outputs": [
    {
     "name": "stdout",
     "output_type": "stream",
     "text": [
      "TextRank - Precision: 0.20863309352517986\n",
      "TextRank - Recall: 1.0\n",
      "TextRank - F1 Score: 0.34523809523809523\n",
      "Frequency-based - Precision: 0.2805755395683453\n",
      "Frequency-based - Recall: 1.0\n",
      "Frequency-based - F1 Score: 0.4382022471910112\n"
     ]
    }
   ],
   "source": [
    "\n",
    "print(\"TextRank - Precision:\", precision_text_rank)\n",
    "print(\"TextRank - Recall:\", recall_text_rank)\n",
    "print(\"TextRank - F1 Score:\", f1_score_text_rank)\n",
    "\n",
    "print(\"Frequency-based - Precision:\", precision_freq)\n",
    "print(\"Frequency-based - Recall:\", recall_freq)\n",
    "print(\"Frequency-based - F1 Score:\", f1_score_freq)"
   ]
  },
  {
   "cell_type": "code",
   "execution_count": null,
   "metadata": {},
   "outputs": [],
   "source": []
  },
  {
   "cell_type": "code",
   "execution_count": 17,
   "metadata": {},
   "outputs": [
    {
     "data": {
      "image/png": "[encoded data removed]",
      "text/plain": [
       "<Figure size 640x480 with 1 Axes>"
      ]
     },
     "metadata": {},
     "output_type": "display_data"
    }
   ],
   "source": [
    "import matplotlib.pyplot as plt\n",
    "\n",
    "def plot_comparison_bar_chart(algorithm_names, precision_scores, recall_scores, f1_scores, title):\n",
    "    bar_width = 0.2\n",
    "    index = range(len(algorithm_names))\n",
    "\n",
    "    fig, ax = plt.subplots()\n",
    "\n",
    "    bar1 = ax.bar(index, precision_scores, bar_width, label='Precision')\n",
    "    bar2 = ax.bar([i + bar_width for i in index], recall_scores, bar_width, label='Recall')\n",
    "    bar3 = ax.bar([i + 2 * bar_width for i in index], f1_scores, bar_width, label='F1 Score')\n",
    "\n",
    "    ax.set_xlabel('Algorithms')\n",
    "    ax.set_ylabel('Scores')\n",
    "    ax.set_title(title)\n",
    "    ax.set_xticks([i + bar_width for i in index])\n",
    "    ax.set_xticklabels(algorithm_names)\n",
    "    ax.legend()\n",
    "\n",
    "    plt.show()\n",
    "\n",
    "# Example usage:\n",
    "algorithm_names = ['TextRank', 'Frequency-based']\n",
    "precision_scores = [precision_text_rank, precision_freq]\n",
    "recall_scores = [recall_text_rank, recall_freq]\n",
    "f1_scores = [f1_score_text_rank, f1_score_freq]\n",
    "\n",
    "plot_comparison_bar_chart(algorithm_names, precision_scores, recall_scores, f1_scores, 'Algorithm Comparison')\n"
   ]
  },
  {
   "cell_type": "code",
   "execution_count": null,
   "metadata": {},
   "outputs": [],
   "source": []
  }
 ],
 "metadata": {
  "kernelspec": {
   "display_name": "Python 3",
   "language": "python",
   "name": "python3"
  },
  "language_info": {
   "codemirror_mode": {
    "name": "ipython",
    "version": 3
   },
   "file_extension": ".py",
   "mimetype": "text/x-python",
   "name": "python",
   "nbconvert_exporter": "python",
   "pygments_lexer": "ipython3",
   "version": "3.11.4"
  }
 },
 "nbformat": 4,
 "nbformat_minor": 2
}
